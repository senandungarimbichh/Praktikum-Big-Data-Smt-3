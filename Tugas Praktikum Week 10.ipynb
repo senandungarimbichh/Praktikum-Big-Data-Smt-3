{
 "cells": [
  {
   "cell_type": "code",
   "execution_count": 2,
   "id": "9813f1c4-c139-4fe5-81ea-52bca24f0028",
   "metadata": {},
   "outputs": [
    {
     "name": "stdout",
     "output_type": "stream",
     "text": [
      "Requirement already satisfied: pymongo in ./anaconda3/envs/PraktikumBigData/lib/python3.13/site-packages (4.15.3)\n",
      "Requirement already satisfied: dnspython<3.0.0,>=1.16.0 in ./anaconda3/envs/PraktikumBigData/lib/python3.13/site-packages (from pymongo) (2.4.2)\n"
     ]
    }
   ],
   "source": [
    "!pip install pymongo"
   ]
  },
  {
   "cell_type": "code",
   "execution_count": 3,
   "id": "057c436d-509b-4888-adbc-e52618e2d812",
   "metadata": {},
   "outputs": [
    {
     "name": "stdout",
     "output_type": "stream",
     "text": [
      "Connected to MongoDB\n"
     ]
    }
   ],
   "source": [
    "# Pastikan MongoDB telah terpasang dan berjalan. Hubungkan ke MongoDB lokal.\n",
    "from pymongo import MongoClient\n",
    "\n",
    "# Inisialisasi client dan koneksi ke database\n",
    "client = MongoClient('mongodb://localhost:27017/')\n",
    "db = client['company_db']\n",
    "collection = db['employees']\n",
    "\n",
    "# Contoh untuk memastikan koneksi\n",
    "print('Connected to MongoDB')"
   ]
  },
  {
   "cell_type": "code",
   "execution_count": 4,
   "id": "424343c2-d927-40fb-ae7e-d27169bb8641",
   "metadata": {},
   "outputs": [
    {
     "name": "stdout",
     "output_type": "stream",
     "text": [
      "Data karyawan berhasil dimasukkan!\n"
     ]
    }
   ],
   "source": [
    "# Mempersiapkan data karyawan di koleksi MongoDB (employees)\n",
    "from pymongo import MongoClient\n",
    "\n",
    "# koneksi ke server MongoDB lokal\n",
    "client = MongoClient(\"mongodb://localhost:27017/\")\n",
    "\n",
    "# pilih atau buat database baru\n",
    "db = client[\"sistem_penggajian\"]\n",
    "\n",
    "# pilih atau buat koleksi karyawan\n",
    "employees = db[\"employees\"]\n",
    "data_employees = [\n",
    "    {\"nama\": \"Dinda Saputra\", \"departemen\": \"HRD\", \"gaji\": 7000000, \"umur\": 28},\n",
    "    {\"nama\": \"Rani Oktaviani\", \"departemen\": \"HRD\", \"gaji\": 6800000, \"umur\": 26},\n",
    "    {\"nama\": \"Bayu Fadillah\", \"departemen\": \"HRD\", \"gaji\": 6500000, \"umur\": 30},\n",
    "    {\"nama\": \"Citra Ayu\", \"departemen\": \"HRD\", \"gaji\": 6000000, \"umur\": 24},\n",
    "    {\"nama\": \"Fajar Ramadhan\", \"departemen\": \"HRD\", \"gaji\": 6200000, \"umur\": 23},\n",
    "    \n",
    "    {\"nama\": \"Fikri Maulana\", \"departemen\": \"IT\", \"gaji\": 9000000, \"umur\": 29},\n",
    "    {\"nama\": \"Rendi Kurniawan\", \"departemen\": \"IT\", \"gaji\": 8700000, \"umur\": 31},\n",
    "    {\"nama\": \"Nisa Wulandari\", \"departemen\": \"IT\", \"gaji\": 8500000, \"umur\": 22},\n",
    "    {\"nama\": \"Tio Pratama\", \"departemen\": \"IT\", \"gaji\": 8000000, \"umur\": 27},\n",
    "    {\"nama\": \"Lala Dewi\", \"departemen\": \"IT\", \"gaji\": 8200000, \"umur\": 25},\n",
    "    \n",
    "    {\"nama\": \"Putri Larasati\", \"departemen\": \"Finance\", \"gaji\": 7700000, \"umur\": 33},\n",
    "    {\"nama\": \"Rizky Ananda\", \"departemen\": \"Finance\", \"gaji\": 7900000, \"umur\": 24},\n",
    "    {\"nama\": \"Eko Santoso\", \"departemen\": \"Finance\", \"gaji\": 7500000, \"umur\": 28},\n",
    "    {\"nama\": \"Nadia Farah\", \"departemen\": \"Finance\", \"gaji\": 7200000, \"umur\": 23},\n",
    "    {\"nama\": \"Joko Priyono\", \"departemen\": \"Finance\", \"gaji\": 7000000, \"umur\": 26}\n",
    "]\n",
    "\n",
    "employees.insert_many(data_employees)\n",
    "print(\"Data karyawan berhasil dimasukkan!\")"
   ]
  },
  {
   "cell_type": "code",
   "execution_count": 5,
   "id": "1594f9b9-4733-4dc3-bc0e-d70a599992ae",
   "metadata": {},
   "outputs": [
    {
     "name": "stdout",
     "output_type": "stream",
     "text": [
      "{'nama': 'Dinda Saputra', 'departemen': 'HRD', 'gaji': 7000000, 'umur': 28}\n",
      "{'nama': 'Rani Oktaviani', 'departemen': 'HRD', 'gaji': 6800000, 'umur': 26}\n",
      "{'nama': 'Bayu Fadillah', 'departemen': 'HRD', 'gaji': 6500000, 'umur': 30}\n",
      "{'nama': 'Citra Ayu', 'departemen': 'HRD', 'gaji': 6000000, 'umur': 24}\n",
      "{'nama': 'Fajar Ramadhan', 'departemen': 'HRD', 'gaji': 6200000, 'umur': 23}\n",
      "{'nama': 'Fikri Maulana', 'departemen': 'IT', 'gaji': 9000000, 'umur': 29}\n",
      "{'nama': 'Rendi Kurniawan', 'departemen': 'IT', 'gaji': 8700000, 'umur': 31}\n",
      "{'nama': 'Nisa Wulandari', 'departemen': 'IT', 'gaji': 8500000, 'umur': 22}\n",
      "{'nama': 'Tio Pratama', 'departemen': 'IT', 'gaji': 8000000, 'umur': 27}\n",
      "{'nama': 'Lala Dewi', 'departemen': 'IT', 'gaji': 8200000, 'umur': 25}\n",
      "{'nama': 'Putri Larasati', 'departemen': 'Finance', 'gaji': 7700000, 'umur': 33}\n",
      "{'nama': 'Rizky Ananda', 'departemen': 'Finance', 'gaji': 7900000, 'umur': 24}\n",
      "{'nama': 'Eko Santoso', 'departemen': 'Finance', 'gaji': 7500000, 'umur': 28}\n",
      "{'nama': 'Nadia Farah', 'departemen': 'Finance', 'gaji': 7200000, 'umur': 23}\n",
      "{'nama': 'Joko Priyono', 'departemen': 'Finance', 'gaji': 7000000, 'umur': 26}\n"
     ]
    }
   ],
   "source": [
    "# Memastikan datanya sudah benar-benar masuk.\n",
    "for e in employees.find({}, {\"_id\":0}):\n",
    "    print(e)"
   ]
  },
  {
   "cell_type": "code",
   "execution_count": 6,
   "id": "ed787ff0-37d7-4d98-b091-19d0a2d909ae",
   "metadata": {},
   "outputs": [
    {
     "name": "stdout",
     "output_type": "stream",
     "text": [
      "Departemen: Finance\n",
      " 1. Rizky Ananda - Gaji: 7900000 - Umur: 24\n",
      " 2. Putri Larasati - Gaji: 7700000 - Umur: 33\n",
      " 3. Eko Santoso - Gaji: 7500000 - Umur: 28\n",
      " 4. Nadia Farah - Gaji: 7200000 - Umur: 23\n",
      " 5. Joko Priyono - Gaji: 7000000 - Umur: 26\n",
      "--------------------------------------------------\n",
      "Departemen: HRD\n",
      " 1. Dinda Saputra - Gaji: 7000000 - Umur: 28\n",
      " 2. Rani Oktaviani - Gaji: 6800000 - Umur: 26\n",
      " 3. Bayu Fadillah - Gaji: 6500000 - Umur: 30\n",
      " 4. Fajar Ramadhan - Gaji: 6200000 - Umur: 23\n",
      " 5. Citra Ayu - Gaji: 6000000 - Umur: 24\n",
      "--------------------------------------------------\n",
      "Departemen: IT\n",
      " 1. Fikri Maulana - Gaji: 9000000 - Umur: 29\n",
      " 2. Rendi Kurniawan - Gaji: 8700000 - Umur: 31\n",
      " 3. Nisa Wulandari - Gaji: 8500000 - Umur: 22\n",
      " 4. Lala Dewi - Gaji: 8200000 - Umur: 25\n",
      " 5. Tio Pratama - Gaji: 8000000 - Umur: 27\n",
      "--------------------------------------------------\n"
     ]
    }
   ],
   "source": [
    "# Tugas 1: Cari 5 karyawan dengan gaji tertinggi dalam setiap departemen, gunakan query atau aggregation yang sesuai.\n",
    "pipeline = [\n",
    "    # Urutkan berdasarkan departemen dan gaji tertinggi\n",
    "    {\"$sort\": {\"departemen\": 1, \"gaji\": -1}},\n",
    "\n",
    "    # Kelompokkan per departemen, ambil semua karyawan\n",
    "    {\"$group\": {\n",
    "        \"_id\": \"$departemen\",\n",
    "        \"top_employees\": {\n",
    "            \"$push\": {\n",
    "                \"nama\": \"$nama\",\n",
    "                \"gaji\": \"$gaji\",\n",
    "                \"umur\": \"$umur\"\n",
    "            }\n",
    "        }\n",
    "    }},\n",
    "\n",
    "    # Ambil hanya 5 karyawan teratas di setiap departemen\n",
    "    {\"$project\": {\n",
    "        \"_id\": 1,\n",
    "        \"top_5\": {\"$slice\": [\"$top_employees\", 5]}\n",
    "    }}\n",
    "]\n",
    "\n",
    "result = employees.aggregate(pipeline)\n",
    "\n",
    "# Tampilkan hasil\n",
    "for dept in result:\n",
    "    print(f\"Departemen: {dept['_id']}\")\n",
    "    for i, emp in enumerate(dept['top_5'], 1):\n",
    "        print(f\" {i}. {emp['nama']} - Gaji: {emp['gaji']} - Umur: {emp['umur']}\")\n",
    "    print(\"-\" * 50)"
   ]
  },
  {
   "cell_type": "code",
   "execution_count": 7,
   "id": "e0babe41-2caf-4ff4-89be-8c4a77bac51a",
   "metadata": {},
   "outputs": [
    {
     "name": "stdout",
     "output_type": "stream",
     "text": [
      "Karyawan berusia di bawah 25 tahun:\n",
      "{'nama': 'Citra Ayu', 'umur': 24}\n",
      "{'nama': 'Fajar Ramadhan', 'umur': 23}\n",
      "{'nama': 'Nisa Wulandari', 'umur': 22}\n",
      "{'nama': 'Rizky Ananda', 'umur': 24}\n",
      "{'nama': 'Nadia Farah', 'umur': 23}\n",
      "\n",
      " Jumlah karyawan yang dihapus: 5\n"
     ]
    }
   ],
   "source": [
    "# Tugas 2: Buatlah skenario di mana Anda harus menghapus karyawan yang berusia di bawah 25 tahun dari database.\n",
    "# Menampilkan karyawan yang berusia < 25 (sebelum dihapus)\n",
    "print(\"Karyawan berusia di bawah 25 tahun:\")\n",
    "for emp in db.employees.find({\"umur\": {\"$lt\": 25}}, {\"_id\": 0, \"nama\": 1, \"umur\": 1}):\n",
    "    print(emp)\n",
    "\n",
    "# Menghapus data tersebut\n",
    "hapus = db.employees.delete_many({\"umur\": {\"$lt\": 25}})\n",
    "\n",
    "print(f\"\\n Jumlah karyawan yang dihapus: {hapus.deleted_count}\")"
   ]
  },
  {
   "cell_type": "code",
   "execution_count": 8,
   "id": "20fb17bc-e5d4-4064-91c7-4c2ee59a94e6",
   "metadata": {},
   "outputs": [
    {
     "name": "stdout",
     "output_type": "stream",
     "text": [
      "{'nama': 'Dinda Saputra', 'departemen': 'HRD', 'gaji': 7000000, 'umur': 28}\n",
      "{'nama': 'Rani Oktaviani', 'departemen': 'HRD', 'gaji': 6800000, 'umur': 26}\n",
      "{'nama': 'Bayu Fadillah', 'departemen': 'HRD', 'gaji': 6500000, 'umur': 30}\n",
      "{'nama': 'Fikri Maulana', 'departemen': 'IT', 'gaji': 9000000, 'umur': 29}\n",
      "{'nama': 'Rendi Kurniawan', 'departemen': 'IT', 'gaji': 8700000, 'umur': 31}\n",
      "{'nama': 'Tio Pratama', 'departemen': 'IT', 'gaji': 8000000, 'umur': 27}\n",
      "{'nama': 'Lala Dewi', 'departemen': 'IT', 'gaji': 8200000, 'umur': 25}\n",
      "{'nama': 'Putri Larasati', 'departemen': 'Finance', 'gaji': 7700000, 'umur': 33}\n",
      "{'nama': 'Eko Santoso', 'departemen': 'Finance', 'gaji': 7500000, 'umur': 28}\n",
      "{'nama': 'Joko Priyono', 'departemen': 'Finance', 'gaji': 7000000, 'umur': 26}\n"
     ]
    }
   ],
   "source": [
    "# Cek kembali isi koleksi setelah penghapusan\n",
    "for emp in employees.find({}, {\"_id\": 0}):\n",
    "    print(emp)"
   ]
  },
  {
   "cell_type": "code",
   "execution_count": 10,
   "id": "84d09546-804f-412a-b2e5-09457bbc6095",
   "metadata": {},
   "outputs": [
    {
     "name": "stdout",
     "output_type": "stream",
     "text": [
      "Laporan Total Gaji dan Rata-rata Umur per Departemen:\n",
      "\n",
      "Departemen: Finance\n",
      "  Total Gaji       : Rp22,200,000\n",
      "  Rata-rata Umur   : 29.0 tahun\n",
      "  Jumlah Karyawan  : 3\n",
      "\n",
      "Departemen: HRD\n",
      "  Total Gaji       : Rp20,300,000\n",
      "  Rata-rata Umur   : 28.0 tahun\n",
      "  Jumlah Karyawan  : 3\n",
      "\n",
      "Departemen: IT\n",
      "  Total Gaji       : Rp33,900,000\n",
      "  Rata-rata Umur   : 28.0 tahun\n",
      "  Jumlah Karyawan  : 4\n"
     ]
    }
   ],
   "source": [
    "# Tugas 3: Buatlah laporan ringkas (menggunakan MongoDB query) yang menghitung total gaji karyawan di setiap departemen, serta rata-rata umur karyawan.\n",
    "pipeline_tugas3 = [\n",
    "    {\"$group\": {\n",
    "        \"_id\": \"$departemen\",\n",
    "        \"total_gaji\": {\"$sum\": \"$gaji\"},\n",
    "        \"rata_umur\": {\"$avg\": \"$umur\"},\n",
    "        \"jumlah_karyawan\": {\"$sum\": 1}\n",
    "    }},\n",
    "    {\"$sort\": {\"_id\": 1}}\n",
    "]\n",
    "\n",
    "hasil_tugas3 = list(db.employees.aggregate(pipeline_tugas3))\n",
    "\n",
    "print(\"Laporan Total Gaji dan Rata-rata Umur per Departemen:\")\n",
    "for dept in hasil_tugas3:\n",
    "    print(f\"\\nDepartemen: {dept['_id']}\")\n",
    "    print(f\"  Total Gaji       : Rp{dept['total_gaji']:,}\")\n",
    "    print(f\"  Rata-rata Umur   : {dept['rata_umur']:.1f} tahun\")\n",
    "    print(f\"  Jumlah Karyawan  : {dept['jumlah_karyawan']}\")"
   ]
  },
  {
   "cell_type": "code",
   "execution_count": null,
   "id": "5616086d-7285-4d7b-948e-40470ec21357",
   "metadata": {},
   "outputs": [],
   "source": []
  }
 ],
 "metadata": {
  "kernelspec": {
   "display_name": "Python 3 (ipykernel)",
   "language": "python",
   "name": "python3"
  },
  "language_info": {
   "codemirror_mode": {
    "name": "ipython",
    "version": 3
   },
   "file_extension": ".py",
   "mimetype": "text/x-python",
   "name": "python",
   "nbconvert_exporter": "python",
   "pygments_lexer": "ipython3",
   "version": "3.13.7"
  }
 },
 "nbformat": 4,
 "nbformat_minor": 5
}
