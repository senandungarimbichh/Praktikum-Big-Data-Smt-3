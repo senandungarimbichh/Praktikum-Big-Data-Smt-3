{
 "cells": [
  {
   "cell_type": "code",
   "execution_count": 1,
   "id": "dabe086f-f564-45ce-9d8c-6503209a89db",
   "metadata": {},
   "outputs": [
    {
     "name": "stdout",
     "output_type": "stream",
     "text": [
      "Collecting findspark\n",
      "  Downloading findspark-2.0.1-py2.py3-none-any.whl.metadata (352 bytes)\n",
      "Downloading findspark-2.0.1-py2.py3-none-any.whl (4.4 kB)\n",
      "Installing collected packages: findspark\n",
      "Successfully installed findspark-2.0.1\n"
     ]
    }
   ],
   "source": [
    "!pip install findspark"
   ]
  },
  {
   "cell_type": "code",
   "execution_count": 1,
   "id": "6e456239-617e-41d5-9ae1-e064aa90e263",
   "metadata": {},
   "outputs": [
    {
     "name": "stderr",
     "output_type": "stream",
     "text": [
      "25/10/23 11:44:32 WARN Utils: Your hostname, senandung-VirtualBox resolves to a loopback address: 127.0.1.1; using 10.0.2.15 instead (on interface enp0s3)\n",
      "25/10/23 11:44:32 WARN Utils: Set SPARK_LOCAL_IP if you need to bind to another address\n",
      "Setting default log level to \"WARN\".\n",
      "To adjust logging level use sc.setLogLevel(newLevel). For SparkR, use setLogLevel(newLevel).\n",
      "25/10/23 11:44:35 WARN NativeCodeLoader: Unable to load native-hadoop library for your platform... using builtin-java classes where applicable\n",
      "25/10/23 11:44:52 WARN GarbageCollectionMetrics: To enable non-built-in garbage collector(s) List(G1 Concurrent GC), users should configure it(them) to spark.eventLog.gcMetrics.youngGenerationGarbageCollectors or spark.eventLog.gcMetrics.oldGenerationGarbageCollectors\n"
     ]
    },
    {
     "name": "stdout",
     "output_type": "stream",
     "text": [
      "+---------+---+------+------+------+\n",
      "|     Name|Age|Gender|Salary|DeptId|\n",
      "+---------+---+------+------+------+\n",
      "|Senandung| 25|     F|  3500|     1|\n",
      "|  Marimby| 28|     F|  4200|     2|\n",
      "|    Wisnu| 34|     M|  2700|     1|\n",
      "+---------+---+------+------+------+\n",
      "\n",
      "+---------+---+\n",
      "|     Name|Age|\n",
      "+---------+---+\n",
      "|Senandung| 25|\n",
      "|  Marimby| 28|\n",
      "+---------+---+\n",
      "\n"
     ]
    },
    {
     "name": "stderr",
     "output_type": "stream",
     "text": [
      "[Stage 6:=====>                                                    (1 + 9) / 10]"
     ]
    },
    {
     "name": "stdout",
     "output_type": "stream",
     "text": [
      "+------------------+\n",
      "|       avg(Salary)|\n",
      "+------------------+\n",
      "|3466.6666666666665|\n",
      "+------------------+\n",
      "\n"
     ]
    },
    {
     "name": "stderr",
     "output_type": "stream",
     "text": [
      "                                                                                "
     ]
    }
   ],
   "source": [
    "# 1. Refresher: Basic SQL Operations in Spark SQL\n",
    "import findspark\n",
    "findspark.init()\n",
    "from pyspark.sql import SparkSession \n",
    "\n",
    "# Membuat Spark session\n",
    "spark = SparkSession.builder.appName(\"DataFrameExample\").getOrCreate()\n",
    "data = [\n",
    "    ('Senandung', 25, 'F', 3500, 1),\n",
    "    ('Marimby', 28, 'F', 4200, 2),\n",
    "    ('Wisnu', 34, 'M', 2700, 1),\n",
    "]\n",
    "columns = ['Name', 'Age', 'Gender', 'Salary', 'DeptId']\n",
    "df = spark.createDataFrame(data, schema=columns)\n",
    "df.createOrReplaceTempView('employees')\n",
    "spark.sql('SELECT * FROM employees').show()\n",
    "spark.sql('SELECT Name, Age FROM employees WHERE salary > 3000').show()\n",
    "spark.sql('SELECT AVG(Salary) FROM employees').show()"
   ]
  },
  {
   "cell_type": "code",
   "execution_count": 2,
   "id": "43941ed5-8aa2-4ad2-825a-7bb77a72b9aa",
   "metadata": {},
   "outputs": [
    {
     "name": "stderr",
     "output_type": "stream",
     "text": [
      "[Stage 9:==============================================>           (8 + 2) / 10]"
     ]
    },
    {
     "name": "stdout",
     "output_type": "stream",
     "text": [
      "+------+-----------+---+\n",
      "|Gender|TotalSalary|Age|\n",
      "+------+-----------+---+\n",
      "|     F|       3500| 25|\n",
      "|     F|       4200| 28|\n",
      "|     M|       2700| 34|\n",
      "+------+-----------+---+\n",
      "\n"
     ]
    },
    {
     "name": "stderr",
     "output_type": "stream",
     "text": [
      "                                                                                "
     ]
    }
   ],
   "source": [
    "# 2. Advanced Queries for Data Analysis\n",
    "spark.sql('''\n",
    "SELECT Gender, SUM(Salary) as TotalSalary, Age\n",
    "FROM employees\n",
    "GROUP BY Gender, Age\n",
    "ORDER BY Age\n",
    "''').show()"
   ]
  },
  {
   "cell_type": "code",
   "execution_count": 7,
   "id": "9f67fb93-138f-4633-92f2-9687df67b44f",
   "metadata": {},
   "outputs": [
    {
     "name": "stderr",
     "output_type": "stream",
     "text": [
      "[Stage 15:>                                                       (0 + 10) / 10]"
     ]
    },
    {
     "name": "stdout",
     "output_type": "stream",
     "text": [
      "+------+-------------+\n",
      "|DeptId|AvgSalaryDept|\n",
      "+------+-------------+\n",
      "|     1|       3100.0|\n",
      "|     2|       4200.0|\n",
      "+------+-------------+\n",
      "\n"
     ]
    },
    {
     "name": "stderr",
     "output_type": "stream",
     "text": [
      "                                                                                "
     ]
    }
   ],
   "source": [
    "# a. Cari rata-rata gaji per departemen.\n",
    "from pyspark.sql import functions as F\n",
    "\n",
    "avg_salary_dept = df.groupBy(\"DeptId\").agg(F.avg(\"Salary\").alias(\"AvgSalaryDept\"))\n",
    "avg_salary_dept.show()"
   ]
  },
  {
   "cell_type": "code",
   "execution_count": 8,
   "id": "880d9c6e-079e-4bbf-8a48-a3c6ddb43b27",
   "metadata": {},
   "outputs": [
    {
     "name": "stderr",
     "output_type": "stream",
     "text": [
      "                                                                                "
     ]
    },
    {
     "name": "stdout",
     "output_type": "stream",
     "text": [
      "+-------+------+------+---------------+\n",
      "|   Name|Gender|Salary|AvgSalaryGender|\n",
      "+-------+------+------+---------------+\n",
      "|Marimby|     F|  4200|         3850.0|\n",
      "+-------+------+------+---------------+\n",
      "\n"
     ]
    }
   ],
   "source": [
    "# b. Temukan karyawan yang memiliki gaji di atas rata-rata untuk gender masing-masing.\n",
    "avg_gender = df.groupBy(\"Gender\").agg(F.avg(\"Salary\").alias(\"AvgSalaryGender\"))\n",
    "\n",
    "above_avg = df.join(avg_gender, on=\"Gender\") \\\n",
    "              .filter(F.col(\"Salary\") > F.col(\"AvgSalaryGender\")) \\\n",
    "              .select(\"Name\", \"Gender\", \"Salary\", \"AvgSalaryGender\")\n",
    "\n",
    "above_avg.show()"
   ]
  },
  {
   "cell_type": "code",
   "execution_count": 9,
   "id": "26d52f55-f16e-4099-bc5f-814d8d18ca3d",
   "metadata": {},
   "outputs": [
    {
     "name": "stderr",
     "output_type": "stream",
     "text": [
      "[Stage 24:============================>                            (5 + 5) / 10]"
     ]
    },
    {
     "name": "stdout",
     "output_type": "stream",
     "text": [
      "+---------+---+------+------+------+----------+\n",
      "|     Name|Age|Gender|Salary|DeptId|RankInDept|\n",
      "+---------+---+------+------+------+----------+\n",
      "|Senandung| 25|     F|  3500|     1|         1|\n",
      "|    Wisnu| 34|     M|  2700|     1|         2|\n",
      "|  Marimby| 28|     F|  4200|     2|         1|\n",
      "+---------+---+------+------+------+----------+\n",
      "\n"
     ]
    },
    {
     "name": "stderr",
     "output_type": "stream",
     "text": [
      "                                                                                "
     ]
    }
   ],
   "source": [
    "# c. Buat ranking karyawan berdasarkan gaji dalam departemen mereka.\n",
    "from pyspark.sql.window import Window\n",
    "\n",
    "windowDept = Window.partitionBy(\"DeptId\").orderBy(F.col(\"Salary\").desc())\n",
    "\n",
    "ranked = df.withColumn(\"RankInDept\", F.rank().over(windowDept))\n",
    "ranked.show()"
   ]
  },
  {
   "cell_type": "code",
   "execution_count": 5,
   "id": "c7cd246a-a582-43ba-bf4c-fda7c01f7c95",
   "metadata": {},
   "outputs": [
    {
     "name": "stderr",
     "output_type": "stream",
     "text": [
      "[Stage 12:=============================================>           (8 + 2) / 10]"
     ]
    },
    {
     "name": "stdout",
     "output_type": "stream",
     "text": [
      "+---------+---+------+----+\n",
      "|     Name|Age|Salary|rank|\n",
      "+---------+---+------+----+\n",
      "|Senandung| 25|  3500|   1|\n",
      "|  Marimby| 28|  4200|   1|\n",
      "|    Wisnu| 34|  2700|   1|\n",
      "+---------+---+------+----+\n",
      "\n"
     ]
    },
    {
     "name": "stderr",
     "output_type": "stream",
     "text": [
      "                                                                                "
     ]
    }
   ],
   "source": [
    "# 3. Penggunaan Window Functions dan Subqueries\n",
    "spark.sql('''\n",
    "SELECT Name, Age, Salary, ROW_NUMBER() OVER (PARTITION BY Age ORDER BY Salary DESC) as rank\n",
    "FROM employees\n",
    "''').show()"
   ]
  },
  {
   "cell_type": "code",
   "execution_count": 10,
   "id": "9d0d42c8-1e89-49b7-b6ae-db5fd5156f83",
   "metadata": {},
   "outputs": [
    {
     "name": "stderr",
     "output_type": "stream",
     "text": [
      "25/10/23 09:27:36 WARN SparkSession: Using an existing Spark session; only runtime SQL configurations will take effect.\n",
      "[Stage 29:===================================================>     (9 + 1) / 10]"
     ]
    },
    {
     "name": "stdout",
     "output_type": "stream",
     "text": [
      "+---------+---+------+------+---------+-----------+\n",
      "|     Name|Age|Gender|Salary| DeptName|ProjectName|\n",
      "+---------+---+------+------+---------+-----------+\n",
      "|    Wisnu| 34|     M|  2700|       HR|  Project A|\n",
      "|Senandung| 25|     F|  3500|       HR|  Project A|\n",
      "|  Marimby| 28|     F|  4200|Marketing|  Project B|\n",
      "+---------+---+------+------+---------+-----------+\n",
      "\n"
     ]
    },
    {
     "name": "stderr",
     "output_type": "stream",
     "text": [
      "                                                                                "
     ]
    }
   ],
   "source": [
    "# 4. Advanced Spark SQL Queries\n",
    "from pyspark.sql import SparkSession\n",
    "\n",
    "# Membuat SparkSession\n",
    "spark = SparkSession.builder.appName('Pertemuan9').getOrCreate()\n",
    "\n",
    "# === DATAFRAME PEGAWAI ===\n",
    "employees = spark.createDataFrame([\n",
    "    ('Senandung', 25, 'F', 3500, 1),\n",
    "    ('Marimby', 28, 'F', 4200, 2),\n",
    "    ('Wisnu', 34, 'M', 2700, 1)\n",
    "], ['Name', 'Age', 'Gender', 'Salary', 'DeptId'])\n",
    "\n",
    "# === DATAFRAME DEPARTEMEN ===\n",
    "departments = spark.createDataFrame([\n",
    "    (1, 'HR'),\n",
    "    (2, 'Marketing')\n",
    "], ['DeptId', 'DeptName'])\n",
    "\n",
    "# === DATAFRAME PROYEK ===\n",
    "projects = spark.createDataFrame([\n",
    "    (1, 'Project A'),\n",
    "    (2, 'Project B')\n",
    "], ['DeptId', 'ProjectName'])\n",
    "\n",
    "# Registrasi ke temporary view untuk SQL\n",
    "employees.createOrReplaceTempView('employees')\n",
    "departments.createOrReplaceTempView('departments')\n",
    "projects.createOrReplaceTempView('projects')\n",
    "\n",
    "# === QUERY: JOIN ANTAR TABEL ===\n",
    "result = spark.sql('''\n",
    "SELECT e.Name, e.Age, e.Gender, e.Salary, \n",
    "       d.DeptName, p.ProjectName\n",
    "FROM employees e\n",
    "JOIN departments d ON e.DeptId = d.DeptId\n",
    "JOIN projects p ON e.DeptId = p.DeptId\n",
    "''')\n",
    "\n",
    "result.show()"
   ]
  },
  {
   "cell_type": "code",
   "execution_count": 3,
   "id": "c03ef6ba-027a-45c6-ad86-d6f7452703e4",
   "metadata": {},
   "outputs": [
    {
     "name": "stderr",
     "output_type": "stream",
     "text": [
      "25/10/23 11:45:30 WARN SparkSession: Using an existing Spark session; only runtime SQL configurations will take effect.\n",
      "[Stage 16:>                                                         (0 + 1) / 1]"
     ]
    },
    {
     "name": "stdout",
     "output_type": "stream",
     "text": [
      "+---------+---+------+------+---------+-------------------+-----------+\n",
      "|     Name|Age|Gender|Salary| DeptName|Avg_Salary_Per_Dept|Salary_Rank|\n",
      "+---------+---+------+------+---------+-------------------+-----------+\n",
      "|Senandung| 25|     F|  3500|       HR|             3100.0|          1|\n",
      "|    Wisnu| 34|     M|  2700|       HR|             3100.0|          2|\n",
      "|  Marimby| 28|     F|  4200|Marketing|             4200.0|          1|\n",
      "+---------+---+------+------+---------+-------------------+-----------+\n",
      "\n"
     ]
    },
    {
     "name": "stderr",
     "output_type": "stream",
     "text": [
      "                                                                                "
     ]
    }
   ],
   "source": [
    "# a. Tuliskan query SQL untuk menemukan rata-rata gaji per departemen dan rangking setiap karyawan dalam departemen berdasarkan gaji.\n",
    "import findspark\n",
    "findspark.init()\n",
    "from pyspark.sql import SparkSession\n",
    "\n",
    "# Inisialisasi SparkSession\n",
    "spark = SparkSession.builder.appName('Tugas5_RataRata_Ranking').getOrCreate()\n",
    "\n",
    "# Dataframe karyawan\n",
    "employees = spark.createDataFrame([\n",
    "    ('Senandung', 25, 'F', 3500, 1),\n",
    "    ('Marimby', 28, 'F', 4200, 2),\n",
    "    ('Wisnu', 34, 'M', 2700, 1)\n",
    "], ['Name', 'Age', 'Gender', 'Salary', 'DeptId'])\n",
    "\n",
    "# Dataframe departemen\n",
    "departments = spark.createDataFrame([\n",
    "    (1, 'HR'),\n",
    "    (2, 'Marketing')\n",
    "], ['DeptId', 'DeptName'])\n",
    "\n",
    "# Registrasi temporary view untuk SQL\n",
    "employees.createOrReplaceTempView('employees')\n",
    "departments.createOrReplaceTempView('departments')\n",
    "\n",
    "# === Query SQL untuk menghitung rata-rata dan ranking gaji per departemen ===\n",
    "query = '''\n",
    "SELECT \n",
    "    e.Name, e.Age, e.Gender, e.Salary, d.DeptName,\n",
    "    ROUND(AVG(e.Salary) OVER (PARTITION BY e.DeptId), 2) AS Avg_Salary_Per_Dept,\n",
    "    RANK() OVER (PARTITION BY e.DeptId ORDER BY e.Salary DESC) AS Salary_Rank\n",
    "FROM employees e\n",
    "JOIN departments d\n",
    "    ON e.DeptId = d.DeptId\n",
    "ORDER BY d.DeptName, Salary_Rank\n",
    "'''\n",
    "\n",
    "# Eksekusi query\n",
    "result = spark.sql(query)\n",
    "result.show()"
   ]
  },
  {
   "cell_type": "code",
   "execution_count": 4,
   "id": "21aa7a1b-3817-4276-8cd1-70666c0abdab",
   "metadata": {},
   "outputs": [
    {
     "name": "stderr",
     "output_type": "stream",
     "text": [
      "25/10/23 11:45:48 WARN SparkSession: Using an existing Spark session; only runtime SQL configurations will take effect.\n",
      "[Stage 21:>                                                         (0 + 1) / 1]"
     ]
    },
    {
     "name": "stdout",
     "output_type": "stream",
     "text": [
      "+---------+---+---------+------+---------------------+------------------+\n",
      "|     Name|Age| DeptName|Salary|Cumulative_Avg_Salary|      Salary_Trend|\n",
      "+---------+---+---------+------+---------------------+------------------+\n",
      "|Senandung| 25|       HR|  3500|               3500.0|Di bawah rata-rata|\n",
      "|    Wisnu| 34|       HR|  2700|               3100.0|Di bawah rata-rata|\n",
      "|   Ikhwan| 40|       HR|  5000|              3733.33| Di atas rata-rata|\n",
      "|  Marimby| 28|Marketing|  4200|               4200.0|Di bawah rata-rata|\n",
      "|   Olivia| 30|Marketing|  3900|               4050.0|Di bawah rata-rata|\n",
      "+---------+---+---------+------+---------------------+------------------+\n",
      "\n"
     ]
    },
    {
     "name": "stderr",
     "output_type": "stream",
     "text": [
      "                                                                                "
     ]
    }
   ],
   "source": [
    "# b. Gunakan window functions untuk menentukan tren gaji berdasarkan usia di setiap departemen.\n",
    "from pyspark.sql import SparkSession\n",
    "from pyspark.sql.window import Window\n",
    "import pyspark.sql.functions as F\n",
    "\n",
    "# Inisialisasi SparkSession\n",
    "spark = SparkSession.builder.appName('Tugas6_TrenGaji_Usia').getOrCreate()\n",
    "\n",
    "# Dataframe karyawan\n",
    "employees = spark.createDataFrame([\n",
    "    ('Senandung', 25, 'F', 3500, 1),\n",
    "    ('Marimby', 28, 'F', 4200, 2),\n",
    "    ('Wisnu', 34, 'M', 2700, 1),\n",
    "    ('Olivia', 30, 'F', 3900, 2),\n",
    "    ('Ikhwan', 40, 'M', 5000, 1)\n",
    "], ['Name', 'Age', 'Gender', 'Salary', 'DeptId'])\n",
    "\n",
    "# Dataframe departemen\n",
    "departments = spark.createDataFrame([\n",
    "    (1, 'HR'),\n",
    "    (2, 'Marketing')\n",
    "], ['DeptId', 'DeptName'])\n",
    "\n",
    "# Gabungkan kedua dataframe\n",
    "df = employees.join(departments, on='DeptId')\n",
    "\n",
    "# Definisikan window berdasarkan DeptId dan diurutkan berdasarkan usia\n",
    "windowSpec = Window.partitionBy('DeptName').orderBy('Age') \\\n",
    "    .rowsBetween(Window.unboundedPreceding, Window.currentRow)\n",
    "\n",
    "# Hitung tren gaji berdasarkan usia\n",
    "df_tren = df.withColumn(\n",
    "    'Cumulative_Avg_Salary',\n",
    "    F.round(F.avg('Salary').over(windowSpec), 2)\n",
    ").withColumn(\n",
    "    'Salary_Trend',\n",
    "    F.when(F.col('Salary') > F.avg('Salary').over(windowSpec), 'Di atas rata-rata')\n",
    "     .otherwise('Di bawah rata-rata')\n",
    ")\n",
    "\n",
    "# Tampilkan hasil\n",
    "df_tren.select('Name', 'Age', 'DeptName', 'Salary', 'Cumulative_Avg_Salary', 'Salary_Trend') \\\n",
    "    .orderBy('DeptName', 'Age') \\\n",
    "    .show()"
   ]
  },
  {
   "cell_type": "code",
   "execution_count": 8,
   "id": "7ff33329-16ac-4b22-a9f5-eaa1e11b63e3",
   "metadata": {},
   "outputs": [
    {
     "name": "stderr",
     "output_type": "stream",
     "text": [
      "                                                                                "
     ]
    },
    {
     "name": "stdout",
     "output_type": "stream",
     "text": [
      "   Age  AverageSalary\n",
      "0   25         3500.0\n",
      "1   28         4200.0\n",
      "2   34         2700.0\n"
     ]
    },
    {
     "data": {
      "image/png": "[encoded data removed]",
      "text/plain": [
       "<Figure size 1000x500 with 1 Axes>"
      ]
     },
     "metadata": {},
     "output_type": "display_data"
    }
   ],
   "source": [
    "# 5. Advanced Data Analysis and Visualization\n",
    "%matplotlib inline\n",
    "import matplotlib.pyplot as plt\n",
    "import pandas as pd\n",
    "\n",
    "# Tutup semua figure lama agar tidak muncul ganda\n",
    "plt.close('all')\n",
    "\n",
    "salary_trends = spark.sql('''\n",
    "SELECT Age, AVG(Salary) AS AverageSalary\n",
    "FROM employees\n",
    "GROUP BY Age\n",
    "ORDER BY Age\n",
    "''').toPandas()\n",
    "\n",
    "# Cek datanya dulu\n",
    "print(salary_trends)\n",
    "\n",
    "# Visualization of salary trends\n",
    "plt.figure(figsize=(10, 5))\n",
    "plt.plot(salary_trends['Age'], salary_trends['AverageSalary'], marker='o', color='pink', linewidth=2)\n",
    "plt.xlabel('Age', fontsize=12)\n",
    "plt.ylabel('Average Salary', fontsize=12)\n",
    "plt.title('Salary Trends by Age', fontsize=14)\n",
    "plt.grid(True, linestyle='--', alpha=0.7)\n",
    "plt.show()\n"
   ]
  },
  {
   "cell_type": "code",
   "execution_count": null,
   "id": "201b3fa6-d0eb-4bc4-b171-207616ed5d8c",
   "metadata": {},
   "outputs": [],
   "source": []
  }
 ],
 "metadata": {
  "kernelspec": {
   "display_name": "Python [conda env:base] *",
   "language": "python",
   "name": "conda-base-py"
  },
  "language_info": {
   "codemirror_mode": {
    "name": "ipython",
    "version": 3
   },
   "file_extension": ".py",
   "mimetype": "text/x-python",
   "name": "python",
   "nbconvert_exporter": "python",
   "pygments_lexer": "ipython3",
   "version": "3.13.5"
  }
 },
 "nbformat": 4,
 "nbformat_minor": 5
}
