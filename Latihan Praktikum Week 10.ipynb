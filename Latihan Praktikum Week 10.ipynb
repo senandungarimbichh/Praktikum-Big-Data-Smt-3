{
 "cells": [
  {
   "cell_type": "code",
   "execution_count": 1,
   "id": "162dc3ef-6c1c-451a-8525-c0593fb5fec2",
   "metadata": {},
   "outputs": [
    {
     "name": "stdout",
     "output_type": "stream",
     "text": [
      "Requirement already satisfied: pymongo in ./anaconda3/envs/PraktikumBigData/lib/python3.13/site-packages (4.15.3)\n",
      "Requirement already satisfied: dnspython<3.0.0,>=1.16.0 in ./anaconda3/envs/PraktikumBigData/lib/python3.13/site-packages (from pymongo) (2.4.2)\n"
     ]
    }
   ],
   "source": [
    "!pip install pymongo"
   ]
  },
  {
   "cell_type": "code",
   "execution_count": 3,
   "id": "77af7ae9-2146-4a3a-ab04-787e268b4ee4",
   "metadata": {},
   "outputs": [
    {
     "name": "stdout",
     "output_type": "stream",
     "text": [
      "Connected to MongoDB\n"
     ]
    }
   ],
   "source": [
    "# Tugas 1: Pastikan MongoDB telah terpasang dan berjalan. Hubungkan ke MongoDB lokal.\n",
    "from pymongo import MongoClient\n",
    "\n",
    "# Inisialisasi client dan koneksi ke database\n",
    "client = MongoClient('mongodb://localhost:27017/')\n",
    "db = client['company_db']\n",
    "collection = db['employees']\n",
    "\n",
    "# Contoh untuk memastikan koneksi\n",
    "print('Connected to MongoDB')"
   ]
  },
  {
   "cell_type": "code",
   "execution_count": 4,
   "id": "48b63e0d-c727-43e8-9160-837021a88674",
   "metadata": {},
   "outputs": [
    {
     "name": "stdout",
     "output_type": "stream",
     "text": [
      "Data inserted\n"
     ]
    }
   ],
   "source": [
    "# Tugas 2: Insert, Update, dan Delete data pada koleksi employees.\n",
    "# Contoh Insert Data\n",
    "employee_data = {\n",
    "    'name': 'Alice',\n",
    "    'department': 'Finance',\n",
    "    'age': 29,\n",
    "    'salary': 4500\n",
    "}\n",
    "collection.insert_one(employee_data)\n",
    "print('Data inserted')\n",
    "\n",
    "# Tugas: Insert beberapa data tambahan, lakukan update, serta delete data"
   ]
  },
  {
   "cell_type": "code",
   "execution_count": 5,
   "id": "d5cbf16b-9845-4c1c-af56-2d8541b5e223",
   "metadata": {},
   "outputs": [
    {
     "name": "stdout",
     "output_type": "stream",
     "text": [
      "{'_id': ObjectId('6902c2fe8af8e325843619bf'), 'name': 'Alice', 'department': 'Finance', 'age': 29, 'salary': 4500}\n"
     ]
    }
   ],
   "source": [
    "# Contoh Query Data\n",
    "for employee in collection.find():\n",
    "    print(employee)"
   ]
  },
  {
   "cell_type": "code",
   "execution_count": 6,
   "id": "b442e1cb-d6c9-4a41-9bc6-c6bb288bde6f",
   "metadata": {},
   "outputs": [
    {
     "name": "stdout",
     "output_type": "stream",
     "text": [
      "{'_id': 'Finance', 'average_salary': 4500.0}\n"
     ]
    }
   ],
   "source": [
    "# Tugas 3: Terapkan aggregation untuk menghitung rata-rata gaji per departemen.\n",
    "# Query Aggregation untuk mencari rata-rata gaji per departemen\n",
    "pipeline = [\n",
    "    {'$group': {'_id': '$department', 'average_salary': {'$avg': '$salary'}}}\n",
    "]\n",
    "for result in collection.aggregate(pipeline):\n",
    "    print(result)"
   ]
  },
  {
   "cell_type": "code",
   "execution_count": 7,
   "id": "9fd624dc-5b7c-4071-8e53-fade4d589b2c",
   "metadata": {},
   "outputs": [
    {
     "name": "stdout",
     "output_type": "stream",
     "text": [
      "Data produk berhasil ditambahkan dengan ID:\n",
      "[ObjectId('6902c46a8af8e325843619c1'), ObjectId('6902c46a8af8e325843619c2'), ObjectId('6902c46a8af8e325843619c3'), ObjectId('6902c46a8af8e325843619c4'), ObjectId('6902c46a8af8e325843619c5'), ObjectId('6902c46a8af8e325843619c6'), ObjectId('6902c46a8af8e325843619c7'), ObjectId('6902c46a8af8e325843619c8'), ObjectId('6902c46a8af8e325843619c9'), ObjectId('6902c46a8af8e325843619ca')]\n"
     ]
    }
   ],
   "source": [
    "# Tugas 4.1: Buatlah koleksi baru products dan masukkan data produk (minimal 10 produk).\n",
    "from pymongo import MongoClient\n",
    "\n",
    "# Koneksi ke MongoDB lokal\n",
    "client = MongoClient(\"mongodb://localhost:27017/\")\n",
    "\n",
    "# Membuat / memilih database\n",
    "db = client[\"toko_online\"]\n",
    "\n",
    "# Membuat / memilih koleksi\n",
    "products = db[\"products\"]\n",
    "\n",
    "# Data produk (minimal 10 item)\n",
    "data_produk = [\n",
    "    {\"nama\": \"Laptop Asus A14\", \"kategori\": \"Elektronik\", \"harga\": 9500000, \"stok\": 12},\n",
    "    {\"nama\": \"Smartphone Samsung M14\", \"kategori\": \"Elektronik\", \"harga\": 3200000, \"stok\": 25},\n",
    "    {\"nama\": \"Headphone JBL T500\", \"kategori\": \"Aksesori\", \"harga\": 450000, \"stok\": 30},\n",
    "    {\"nama\": \"Keyboard Logitech K120\", \"kategori\": \"Periferal\", \"harga\": 175000, \"stok\": 50},\n",
    "    {\"nama\": \"Mouse Razer Viper Mini\", \"kategori\": \"Periferal\", \"harga\": 399000, \"stok\": 40},\n",
    "    {\"nama\": \"Monitor LG 24MK600\", \"kategori\": \"Elektronik\", \"harga\": 1700000, \"stok\": 15},\n",
    "    {\"nama\": \"Charger Anker 20W\", \"kategori\": \"Aksesori\", \"harga\": 250000, \"stok\": 45},\n",
    "    {\"nama\": \"Tas Laptop Eiger 15inch\", \"kategori\": \"Fashion\", \"harga\": 375000, \"stok\": 20},\n",
    "    {\"nama\": \"Printer Canon PIXMA MG2570S\", \"kategori\": \"Elektronik\", \"harga\": 825000, \"stok\": 10},\n",
    "    {\"nama\": \"Flashdisk Sandisk 32GB\", \"kategori\": \"Penyimpanan\", \"harga\": 75000, \"stok\": 60}\n",
    "]\n",
    "\n",
    "# Memasukkan data ke koleksi products\n",
    "insert_result = products.insert_many(data_produk)\n",
    "\n",
    "# Menampilkan ID dokumen yang berhasil dimasukkan\n",
    "print(\"Data produk berhasil ditambahkan dengan ID:\")\n",
    "print(insert_result.inserted_ids)"
   ]
  },
  {
   "cell_type": "code",
   "execution_count": 8,
   "id": "e9c138e5-c51a-4492-9472-e0f256e0f8f8",
   "metadata": {},
   "outputs": [
    {
     "name": "stdout",
     "output_type": "stream",
     "text": [
      " Rata-rata harga produk: Rp1,694,900\n",
      "\n",
      " Produk dengan harga di atas rata-rata:\n",
      "- Laptop Asus A14 (Rp9,500,000)\n",
      "- Smartphone Samsung M14 (Rp3,200,000)\n",
      "- Monitor LG 24MK600 (Rp1,700,000)\n"
     ]
    }
   ],
   "source": [
    "# Tugas 4.2: Lakukan query untuk menemukan produk dengan harga di atas rata-rata.\n",
    "from pymongo import MongoClient\n",
    "\n",
    "# Koneksi ke MongoDB\n",
    "client = MongoClient(\"mongodb://localhost:27017/\")\n",
    "db = client[\"toko_online\"]\n",
    "products = db[\"products\"]\n",
    "\n",
    "# Hitung rata-rata harga semua produk\n",
    "pipeline_avg = [\n",
    "    {\"$group\": {\"_id\": None, \"rata_harga\": {\"$avg\": \"$harga\"}}}\n",
    "]\n",
    "hasil_avg = list(products.aggregate(pipeline_avg))[0]\n",
    "rata_harga = hasil_avg[\"rata_harga\"]\n",
    "\n",
    "print(f\" Rata-rata harga produk: Rp{rata_harga:,.0f}\")\n",
    "\n",
    "# Query produk dengan harga di atas rata-rata\n",
    "produk_diatas_rata = products.find({\"harga\": {\"$gt\": rata_harga}})\n",
    "\n",
    "print(\"\\n Produk dengan harga di atas rata-rata:\")\n",
    "for p in produk_diatas_rata:\n",
    "    print(f\"- {p['nama']} (Rp{p['harga']:,.0f})\")"
   ]
  },
  {
   "cell_type": "code",
   "execution_count": 9,
   "id": "dac66d15-50b3-46c5-a42b-eadb281e970e",
   "metadata": {},
   "outputs": [
    {
     "name": "stdout",
     "output_type": "stream",
     "text": [
      "Total Produk per Kategori:\n",
      "- Elektronik: 4 produk\n",
      "- Periferal: 2 produk\n",
      "- Aksesori: 2 produk\n",
      "- Penyimpanan: 1 produk\n",
      "- Fashion: 1 produk\n"
     ]
    }
   ],
   "source": [
    "# Tugas 4.3: Buatlah aggregation pipeline untuk menghitung total produk dalam setiap kategori.\n",
    "from pymongo import MongoClient\n",
    "\n",
    "# Koneksi ke MongoDB\n",
    "client = MongoClient(\"mongodb://localhost:27017/\")\n",
    "db = client[\"toko_online\"]\n",
    "products = db[\"products\"]\n",
    "\n",
    "# Aggregation pipeline untuk menghitung total produk tiap kategori\n",
    "pipeline = [\n",
    "    {\n",
    "        \"$group\": {\n",
    "            \"_id\": \"$kategori\",        # Kelompokkan berdasarkan kategori\n",
    "            \"total_produk\": {\"$sum\": 1}  # Hitung jumlah dokumen per kategori\n",
    "        }\n",
    "    },\n",
    "    {\n",
    "        \"$sort\": {\"total_produk\": -1}   # (Opsional) Urutkan dari yang terbanyak\n",
    "    }\n",
    "]\n",
    "\n",
    "# Jalankan pipeline\n",
    "hasil = list(products.aggregate(pipeline))\n",
    "\n",
    "# Tampilkan hasil\n",
    "print(\"Total Produk per Kategori:\")\n",
    "for item in hasil:\n",
    "    print(f\"- {item['_id']}: {item['total_produk']} produk\")"
   ]
  },
  {
   "cell_type": "code",
   "execution_count": null,
   "id": "697d4d50-9679-4af1-a60a-ac402a943a8d",
   "metadata": {},
   "outputs": [],
   "source": []
  }
 ],
 "metadata": {
  "kernelspec": {
   "display_name": "Python 3 (ipykernel)",
   "language": "python",
   "name": "python3"
  },
  "language_info": {
   "codemirror_mode": {
    "name": "ipython",
    "version": 3
   },
   "file_extension": ".py",
   "mimetype": "text/x-python",
   "name": "python",
   "nbconvert_exporter": "python",
   "pygments_lexer": "ipython3",
   "version": "3.13.7"
  }
 },
 "nbformat": 4,
 "nbformat_minor": 5
}
